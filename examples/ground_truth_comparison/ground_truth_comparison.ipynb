{
 "cells": [
  {
   "cell_type": "code",
   "execution_count": 1,
   "metadata": {},
   "outputs": [],
   "source": [
    "%load_ext autoreload\n",
    "%autoreload 2\n",
    "\n",
    "import spikeextractors as se\n",
    "import spikewidgets as sw\n",
    "from ml_ms4alg import mountainsort4, mountainsort4_curation\n",
    "from IPython.display import HTML\n",
    "from matplotlib import pyplot as plt"
   ]
  },
  {
   "cell_type": "code",
   "execution_count": 2,
   "metadata": {},
   "outputs": [
    {
     "ename": "AttributeError",
     "evalue": "module 'spikewidgets' has no attribute 'example_datasets'",
     "output_type": "error",
     "traceback": [
      "\u001b[0;31m---------------------------------------------------------------------------\u001b[0m",
      "\u001b[0;31mAttributeError\u001b[0m                            Traceback (most recent call last)",
      "\u001b[0;32m<ipython-input-2-e3393ff17e02>\u001b[0m in \u001b[0;36m<module>\u001b[0;34m\u001b[0m\n\u001b[1;32m      1\u001b[0m \u001b[0;31m# Create a synthetic example\u001b[0m\u001b[0;34m\u001b[0m\u001b[0;34m\u001b[0m\u001b[0;34m\u001b[0m\u001b[0m\n\u001b[0;32m----> 2\u001b[0;31m \u001b[0mRX\u001b[0m\u001b[0;34m,\u001b[0m\u001b[0mSX_true\u001b[0m\u001b[0;34m=\u001b[0m\u001b[0msw\u001b[0m\u001b[0;34m.\u001b[0m\u001b[0mexample_datasets\u001b[0m\u001b[0;34m.\u001b[0m\u001b[0mtoy_example1\u001b[0m\u001b[0;34m(\u001b[0m\u001b[0mduration\u001b[0m\u001b[0;34m=\u001b[0m\u001b[0;36m600\u001b[0m\u001b[0;34m)\u001b[0m\u001b[0;34m\u001b[0m\u001b[0;34m\u001b[0m\u001b[0m\n\u001b[0m",
      "\u001b[0;31mAttributeError\u001b[0m: module 'spikewidgets' has no attribute 'example_datasets'"
     ]
    }
   ],
   "source": [
    "# Create a synthetic example\n",
    "RX,SX_true=sw.example_datasets.toy_example1(duration=600)"
   ]
  },
  {
   "cell_type": "code",
   "execution_count": null,
   "metadata": {},
   "outputs": [],
   "source": [
    "# Do the spike sorting\n",
    "# Note -- you should enable scrolling of the output for this cell\n",
    "# Note -- this MountainSort algorithm does not include the automated curation step that auto-removes noise clusters\n",
    "RXf=sw.lazyfilters.bandpass_filter(RX,freq_min=300,freq_max=6000)\n",
    "RXfw=sw.lazyfilters.whiten(RXf)\n",
    "SX=mountainsort4(recording=RXfw,adjacency_radius=50,clip_size=50,detect_interval=10,detect_sign=-1,detect_threshold=3)\n",
    "SX=mountainsort4_curation(recording=RXfw,sorting=SX,noise_overlap_threshold=0.1)"
   ]
  },
  {
   "cell_type": "code",
   "execution_count": null,
   "metadata": {},
   "outputs": [],
   "source": [
    "SC=sw.SortingComparison(SX_true,SX)\n",
    "sw.SortingComparisonTable(SC).display()"
   ]
  },
  {
   "cell_type": "code",
   "execution_count": null,
   "metadata": {},
   "outputs": [],
   "source": [
    "SX=mountainsort4_curation(recording=RXfw,sorting=SX,noise_overlap_threshold=0.1)"
   ]
  },
  {
   "cell_type": "code",
   "execution_count": null,
   "metadata": {},
   "outputs": [],
   "source": [
    "SX.get_unit_ids()"
   ]
  },
  {
   "cell_type": "code",
   "execution_count": null,
   "metadata": {},
   "outputs": [],
   "source": [
    "SX_matched=SC.getMappedSorting2()"
   ]
  },
  {
   "cell_type": "code",
   "execution_count": null,
   "metadata": {},
   "outputs": [],
   "source": [
    "sw.UnitWaveformsWidget(recording=RXfw,sorting=SX_matched,title='Curated').plot()"
   ]
  },
  {
   "cell_type": "code",
   "execution_count": null,
   "metadata": {},
   "outputs": [],
   "source": [
    "SX_curated=mountainsort4_curation(recording=RXfw,sorting=SX_matched,noise_overlap_threshold=0.1)"
   ]
  },
  {
   "cell_type": "code",
   "execution_count": null,
   "metadata": {},
   "outputs": [],
   "source": [
    "SX_curated.get_unit_ids()"
   ]
  },
  {
   "cell_type": "code",
   "execution_count": null,
   "metadata": {},
   "outputs": [],
   "source": [
    "sw.UnitWaveformsWidget(recording=RXfw,sorting=SX_curated,title='Curated').plot()"
   ]
  },
  {
   "cell_type": "code",
   "execution_count": null,
   "metadata": {},
   "outputs": [],
   "source": [
    "# Show the unit waveforms\n",
    "display(HTML('<h3>Sorted</h3>'))\n",
    "sw.UnitWaveformsWidget(recording=RXfw,sorting=SX_matched,title='Sorted').plot()\n",
    "plt.show()\n",
    "display(HTML('<h3>Ground truth</h3>'))\n",
    "sw.UnitWaveformsWidget(recording=RXfw,sorting=SX_true,title='Truth').plot()"
   ]
  },
  {
   "cell_type": "code",
   "execution_count": null,
   "metadata": {},
   "outputs": [],
   "source": [
    "# Show the ground truth\n",
    "display(HTML('<h3>Sorted</h3>'))\n",
    "sw.CrossCorrelogramsWidget(sorting=SX_matched,samplerate=RX.get_sampling_frequency()).plot()\n",
    "plt.show()\n",
    "display(HTML('<h3>Ground truth</h3>'))\n",
    "sw.CrossCorrelogramsWidget(sorting=SX_true,samplerate=RX.get_sampling_frequency()).plot()"
   ]
  },
  {
   "cell_type": "code",
   "execution_count": null,
   "metadata": {},
   "outputs": [],
   "source": [
    "se.MdaRecordingExtractor.write_recording(recording=RX,save_path='test1')"
   ]
  },
  {
   "cell_type": "code",
   "execution_count": null,
   "metadata": {},
   "outputs": [],
   "source": [
    "se.MdaSortingExtractor.write_sorting(sorting=SX_true,save_path='test1/firings_true.mda')"
   ]
  },
  {
   "cell_type": "code",
   "execution_count": null,
   "metadata": {},
   "outputs": [],
   "source": [
    "se.MdaSortingExtractor.write_sorting(sorting=SX_matched,save_path='test1/firings.mda')"
   ]
  },
  {
   "cell_type": "code",
   "execution_count": null,
   "metadata": {},
   "outputs": [],
   "source": [
    "x"
   ]
  },
  {
   "cell_type": "code",
   "execution_count": null,
   "metadata": {},
   "outputs": [],
   "source": []
  }
 ],
 "metadata": {
  "kernelspec": {
   "display_name": "Python [default]",
   "language": "python",
   "name": "python3"
  },
  "language_info": {
   "codemirror_mode": {
    "name": "ipython",
    "version": 3
   },
   "file_extension": ".py",
   "mimetype": "text/x-python",
   "name": "python",
   "nbconvert_exporter": "python",
   "pygments_lexer": "ipython3",
   "version": "3.7.1"
  }
 },
 "nbformat": 4,
 "nbformat_minor": 2
}
