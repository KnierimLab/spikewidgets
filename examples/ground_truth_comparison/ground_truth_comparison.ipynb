{
 "cells": [
  {
   "cell_type": "code",
   "execution_count": null,
   "metadata": {},
   "outputs": [],
   "source": [
    "import spikeinterface as si\n",
    "import spikewidgets as sw\n",
    "from ml_ms4alg import mountainsort4\n",
    "from match_sortings import match_sortings\n",
    "from IPython.display import HTML\n",
    "from matplotlib import pyplot as plt"
   ]
  },
  {
   "cell_type": "code",
   "execution_count": null,
   "metadata": {},
   "outputs": [],
   "source": [
    "# Create a synthetic example\n",
    "RX,SX_true=sw.example_datasets.toy_example1(duration=60)"
   ]
  },
  {
   "cell_type": "code",
   "execution_count": null,
   "metadata": {},
   "outputs": [],
   "source": [
    "# Do the spike sorting\n",
    "# Note -- you should enable scrolling of the output for this cell\n",
    "# Note -- this MountainSort algorithm does not include the automated curation step that auto-removes noise clusters\n",
    "RXf=sw.lazyfilters.bandpass_filter(RX,freq_min=300,freq_max=6000)\n",
    "RXfw=sw.lazyfilters.whiten(RXf)\n",
    "SX=mountainsort4(recording=RXfw,adjacency_radius=50,clip_size=50,detect_interval=10,detect_sign=-1,detect_threshold=3)"
   ]
  },
  {
   "cell_type": "code",
   "execution_count": null,
   "metadata": {},
   "outputs": [],
   "source": [
    "# Find the best match to ground truth\n",
    "SX_matched=match_sortings(sorting=SX,reference_sorting=SX_true)"
   ]
  },
  {
   "cell_type": "code",
   "execution_count": null,
   "metadata": {},
   "outputs": [],
   "source": [
    "# Show the unit waveforms\n",
    "display(HTML('<h3>Sorted</h3>'))\n",
    "sw.UnitWaveformsWidget(recording=RXfw,sorting=SX_matched,title='Sorted').plot()\n",
    "plt.show()\n",
    "display(HTML('<h3>Ground truth</h3>'))\n",
    "sw.UnitWaveformsWidget(recording=RXfw,sorting=SX_true,title='Truth').plot()"
   ]
  },
  {
   "cell_type": "code",
   "execution_count": null,
   "metadata": {},
   "outputs": [],
   "source": [
    "# Show the ground truth\n",
    "display(HTML('<h3>Sorted</h3>'))\n",
    "sw.CrossCorrelogramsWidget(sorting=SX_matched,samplerate=RX.getSamplingFrequency()).plot()\n",
    "plt.show()\n",
    "display(HTML('<h3>Ground truth</h3>'))\n",
    "sw.CrossCorrelogramsWidget(sorting=SX_true,samplerate=RX.getSamplingFrequency()).plot()"
   ]
  },
  {
   "cell_type": "code",
   "execution_count": null,
   "metadata": {},
   "outputs": [],
   "source": []
  }
 ],
 "metadata": {
  "kernelspec": {
   "display_name": "Python 3",
   "language": "python",
   "name": "python3"
  },
  "language_info": {
   "codemirror_mode": {
    "name": "ipython",
    "version": 3
   },
   "file_extension": ".py",
   "mimetype": "text/x-python",
   "name": "python",
   "nbconvert_exporter": "python",
   "pygments_lexer": "ipython3",
   "version": "3.6.6"
  }
 },
 "nbformat": 4,
 "nbformat_minor": 2
}
