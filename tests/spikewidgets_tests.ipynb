{
 "cells": [
  {
   "cell_type": "code",
   "execution_count": null,
   "metadata": {},
   "outputs": [],
   "source": [
    "# For development purposes, reload imported modules when source changes\n",
    "%load_ext autoreload\n",
    "%autoreload 2\n",
    "\n",
    "def append_to_path(dir0): # A convenience function\n",
    "    if dir0 not in sys.path:\n",
    "        sys.path.append(dir0)\n",
    "        \n",
    "import os, sys\n",
    "append_to_path(os.getcwd()+'/..')\n",
    "import spikewidgets as sw"
   ]
  },
  {
   "cell_type": "code",
   "execution_count": null,
   "metadata": {},
   "outputs": [],
   "source": [
    "sw.TimeseriesWidget(input_extractor=IX,output_extractor=OX,width=10,height=4,trange=[0,5000]).display()\n",
    "sw.TimeseriesWidget(input_extractor=IX,output_extractor=OX,width=10,height=4,trange=[0,5000]).plot()"
   ]
  },
  {
   "cell_type": "code",
   "execution_count": null,
   "metadata": {},
   "outputs": [],
   "source": [
    "sw.UnitWaveformsWidget(input_extractor=IX,output_extractor=OX).plot()"
   ]
  },
  {
   "cell_type": "code",
   "execution_count": null,
   "metadata": {},
   "outputs": [],
   "source": []
  }
 ],
 "metadata": {
  "kernelspec": {
   "display_name": "Python 3",
   "language": "python",
   "name": "python3"
  },
  "language_info": {
   "codemirror_mode": {
    "name": "ipython",
    "version": 3
   },
   "file_extension": ".py",
   "mimetype": "text/x-python",
   "name": "python",
   "nbconvert_exporter": "python",
   "pygments_lexer": "ipython3",
   "version": "3.6.2"
  }
 },
 "nbformat": 4,
 "nbformat_minor": 2
}
